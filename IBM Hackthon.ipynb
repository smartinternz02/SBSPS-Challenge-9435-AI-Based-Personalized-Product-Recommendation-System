{
 "cells": [
  {
   "cell_type": "markdown",
   "id": "9857fb3c",
   "metadata": {},
   "source": [
    "**Install the requried package for Recommendation system**"
   ]
  },
  {
   "cell_type": "code",
   "execution_count": 1,
   "id": "1585a55b",
   "metadata": {},
   "outputs": [],
   "source": [
    "import sys\n",
    "import os\n",
    "import collections\n",
    "from collections import defaultdict\n",
    "import numpy as np\n",
    "import pandas as pd\n",
    "from scipy import stats\n",
    "from matplotlib import pyplot as plt\n",
    "import re\n",
    "import seaborn as sns"
   ]
  },
  {
   "cell_type": "markdown",
   "id": "3153f601",
   "metadata": {},
   "source": [
    "Import all required libraries"
   ]
  },
  {
   "cell_type": "code",
   "execution_count": null,
   "id": "3bdc4973",
   "metadata": {},
   "outputs": [],
   "source": [
    "data = pd.read_csv(\"Reviews.csv\")\n",
    "data"
   ]
  },
  {
   "cell_type": "code",
   "execution_count": 3,
   "id": "5609f7e0",
   "metadata": {},
   "outputs": [
    {
     "data": {
      "text/plain": [
       "(568454, 10)"
      ]
     },
     "execution_count": 3,
     "metadata": {},
     "output_type": "execute_result"
    }
   ],
   "source": [
    "data.shape"
   ]
  },
  {
   "cell_type": "code",
   "execution_count": 4,
   "id": "b24f382b",
   "metadata": {},
   "outputs": [],
   "source": [
    "data = data.dropna()"
   ]
  },
  {
   "cell_type": "code",
   "execution_count": 5,
   "id": "b9640942",
   "metadata": {},
   "outputs": [
    {
     "name": "stdout",
     "output_type": "stream",
     "text": [
      "Number of unique product in Raw data =  74258\n"
     ]
    }
   ],
   "source": [
    "print('Number of unique product in Raw data = ', data['ProductId'].nunique())"
   ]
  },
  {
   "cell_type": "code",
   "execution_count": 6,
   "id": "6a37558d",
   "metadata": {},
   "outputs": [
    {
     "name": "stdout",
     "output_type": "stream",
     "text": [
      "Number of rows:  568411\n",
      "Number of columns:  10\n"
     ]
    }
   ],
   "source": [
    "rows,columns=data.shape\n",
    "print('Number of rows: ',rows)\n",
    "print('Number of columns: ',columns)"
   ]
  },
  {
   "cell_type": "code",
   "execution_count": 7,
   "id": "a9b14505",
   "metadata": {},
   "outputs": [
    {
     "name": "stdout",
     "output_type": "stream",
     "text": [
      "<class 'pandas.core.frame.DataFrame'>\n",
      "Int64Index: 568411 entries, 0 to 568453\n",
      "Data columns (total 10 columns):\n",
      " #   Column                  Non-Null Count   Dtype \n",
      "---  ------                  --------------   ----- \n",
      " 0   Id                      568411 non-null  int64 \n",
      " 1   ProductId               568411 non-null  object\n",
      " 2   UserId                  568411 non-null  object\n",
      " 3   ProfileName             568411 non-null  object\n",
      " 4   HelpfulnessNumerator    568411 non-null  int64 \n",
      " 5   HelpfulnessDenominator  568411 non-null  int64 \n",
      " 6   Score                   568411 non-null  int64 \n",
      " 7   Time                    568411 non-null  int64 \n",
      " 8   Summary                 568411 non-null  object\n",
      " 9   Text                    568411 non-null  object\n",
      "dtypes: int64(5), object(5)\n",
      "memory usage: 47.7+ MB\n"
     ]
    }
   ],
   "source": [
    "data.info()"
   ]
  },
  {
   "cell_type": "code",
   "execution_count": 8,
   "id": "b3ce572e",
   "metadata": {},
   "outputs": [
    {
     "data": {
      "text/plain": [
       "count    568411.000000\n",
       "mean          4.183309\n",
       "std           1.310368\n",
       "min           1.000000\n",
       "25%           4.000000\n",
       "50%           5.000000\n",
       "75%           5.000000\n",
       "max           5.000000\n",
       "Name: Score, dtype: float64"
      ]
     },
     "execution_count": 8,
     "metadata": {},
     "output_type": "execute_result"
    }
   ],
   "source": [
    "data['Score'].describe().transpose()"
   ]
  },
  {
   "cell_type": "code",
   "execution_count": 9,
   "id": "be294cf0",
   "metadata": {},
   "outputs": [
    {
     "name": "stdout",
     "output_type": "stream",
     "text": [
      "Minimum rating is product: 1\n",
      "Maximum rating is product: 5\n"
     ]
    }
   ],
   "source": [
    "print('Minimum rating is product: %d' %(data.Score.min()))\n",
    "print('Maximum rating is product: %d' %(data.Score.max()))"
   ]
  },
  {
   "cell_type": "code",
   "execution_count": 10,
   "id": "192e76f7",
   "metadata": {},
   "outputs": [
    {
     "name": "stderr",
     "output_type": "stream",
     "text": [
      "D:\\program\\lib\\site-packages\\seaborn\\categorical.py:3714: UserWarning: The `factorplot` function has been renamed to `catplot`. The original name will be removed in a future release. Please update your code. Note that the default `kind` in `factorplot` (`'point'`) has changed `'strip'` in `catplot`.\n",
      "  warnings.warn(msg)\n",
      "D:\\program\\lib\\site-packages\\seaborn\\_decorators.py:36: FutureWarning: Pass the following variable as a keyword arg: x. From version 0.12, the only valid positional argument will be `data`, and passing other arguments without an explicit keyword will result in an error or misinterpretation.\n",
      "  warnings.warn(\n"
     ]
    },
    {
     "data": {
      "image/png": "[encoded data removed]",
      "text/plain": [
       "<Figure size 720x360 with 1 Axes>"
      ]
     },
     "metadata": {},
     "output_type": "display_data"
    }
   ],
   "source": [
    "import seaborn as sns\n",
    "with sns.axes_style('white'):\n",
    "    g = sns.factorplot(\"Score\", data=data, aspect=2.0,kind='count')\n",
    "    g.set_ylabels(\"Total number of ratings\") "
   ]
  },
  {
   "cell_type": "code",
   "execution_count": 11,
   "id": "77a94205",
   "metadata": {},
   "outputs": [
    {
     "data": {
      "text/html": [
       "<div>\n",
       "<style scoped>\n",
       "    .dataframe tbody tr th:only-of-type {\n",
       "        vertical-align: middle;\n",
       "    }\n",
       "\n",
       "    .dataframe tbody tr th {\n",
       "        vertical-align: top;\n",
       "    }\n",
       "\n",
       "    .dataframe thead th {\n",
       "        text-align: right;\n",
       "    }\n",
       "</style>\n",
       "<table border=\"1\" class=\"dataframe\">\n",
       "  <thead>\n",
       "    <tr style=\"text-align: right;\">\n",
       "      <th></th>\n",
       "      <th>ProductId</th>\n",
       "    </tr>\n",
       "  </thead>\n",
       "  <tbody>\n",
       "    <tr>\n",
       "      <th>0</th>\n",
       "      <td>B001E4KFG0</td>\n",
       "    </tr>\n",
       "    <tr>\n",
       "      <th>1</th>\n",
       "      <td>B00813GRG4</td>\n",
       "    </tr>\n",
       "    <tr>\n",
       "      <th>2</th>\n",
       "      <td>B000LQOCH0</td>\n",
       "    </tr>\n",
       "    <tr>\n",
       "      <th>3</th>\n",
       "      <td>B000UA0QIQ</td>\n",
       "    </tr>\n",
       "    <tr>\n",
       "      <th>4</th>\n",
       "      <td>B006K2ZZ7K</td>\n",
       "    </tr>\n",
       "    <tr>\n",
       "      <th>...</th>\n",
       "      <td>...</td>\n",
       "    </tr>\n",
       "    <tr>\n",
       "      <th>74253</th>\n",
       "      <td>B000H7K114</td>\n",
       "    </tr>\n",
       "    <tr>\n",
       "      <th>74254</th>\n",
       "      <td>B001EO7N10</td>\n",
       "    </tr>\n",
       "    <tr>\n",
       "      <th>74255</th>\n",
       "      <td>B003S1WTCU</td>\n",
       "    </tr>\n",
       "    <tr>\n",
       "      <th>74256</th>\n",
       "      <td>B004I613EE</td>\n",
       "    </tr>\n",
       "    <tr>\n",
       "      <th>74257</th>\n",
       "      <td>B001LR2CU2</td>\n",
       "    </tr>\n",
       "  </tbody>\n",
       "</table>\n",
       "<p>74258 rows × 1 columns</p>\n",
       "</div>"
      ],
      "text/plain": [
       "        ProductId\n",
       "0      B001E4KFG0\n",
       "1      B00813GRG4\n",
       "2      B000LQOCH0\n",
       "3      B000UA0QIQ\n",
       "4      B006K2ZZ7K\n",
       "...           ...\n",
       "74253  B000H7K114\n",
       "74254  B001EO7N10\n",
       "74255  B003S1WTCU\n",
       "74256  B004I613EE\n",
       "74257  B001LR2CU2\n",
       "\n",
       "[74258 rows x 1 columns]"
      ]
     },
     "execution_count": 11,
     "metadata": {},
     "output_type": "execute_result"
    }
   ],
   "source": [
    "uni_names = data['ProductId'].unique()\n",
    "\n",
    "similar_univs = pd.DataFrame({'ProductId':uni_names})\n",
    "similar_univs"
   ]
  },
  {
   "cell_type": "code",
   "execution_count": 12,
   "id": "8a0765a0",
   "metadata": {},
   "outputs": [],
   "source": [
    "data = data.drop('Id',1)\n",
    "data = data.drop('HelpfulnessNumerator',1)\n",
    "data = data.drop('HelpfulnessDenominator',1)\n",
    "data = data.drop('ProfileName',1)\n",
    "data = data.drop('Summary',1)\n",
    "data = data.drop('Text',1)"
   ]
  },
  {
   "cell_type": "code",
   "execution_count": 13,
   "id": "cb3a2143",
   "metadata": {},
   "outputs": [
    {
     "data": {
      "text/html": [
       "<div>\n",
       "<style scoped>\n",
       "    .dataframe tbody tr th:only-of-type {\n",
       "        vertical-align: middle;\n",
       "    }\n",
       "\n",
       "    .dataframe tbody tr th {\n",
       "        vertical-align: top;\n",
       "    }\n",
       "\n",
       "    .dataframe thead th {\n",
       "        text-align: right;\n",
       "    }\n",
       "</style>\n",
       "<table border=\"1\" class=\"dataframe\">\n",
       "  <thead>\n",
       "    <tr style=\"text-align: right;\">\n",
       "      <th></th>\n",
       "      <th>ProductId</th>\n",
       "      <th>UserId</th>\n",
       "      <th>Score</th>\n",
       "      <th>Time</th>\n",
       "    </tr>\n",
       "  </thead>\n",
       "  <tbody>\n",
       "    <tr>\n",
       "      <th>0</th>\n",
       "      <td>B001E4KFG0</td>\n",
       "      <td>A3SGXH7AUHU8GW</td>\n",
       "      <td>5</td>\n",
       "      <td>1303862400</td>\n",
       "    </tr>\n",
       "    <tr>\n",
       "      <th>1</th>\n",
       "      <td>B00813GRG4</td>\n",
       "      <td>A1D87F6ZCVE5NK</td>\n",
       "      <td>1</td>\n",
       "      <td>1346976000</td>\n",
       "    </tr>\n",
       "    <tr>\n",
       "      <th>2</th>\n",
       "      <td>B000LQOCH0</td>\n",
       "      <td>ABXLMWJIXXAIN</td>\n",
       "      <td>4</td>\n",
       "      <td>1219017600</td>\n",
       "    </tr>\n",
       "    <tr>\n",
       "      <th>3</th>\n",
       "      <td>B000UA0QIQ</td>\n",
       "      <td>A395BORC6FGVXV</td>\n",
       "      <td>2</td>\n",
       "      <td>1307923200</td>\n",
       "    </tr>\n",
       "    <tr>\n",
       "      <th>4</th>\n",
       "      <td>B006K2ZZ7K</td>\n",
       "      <td>A1UQRSCLF8GW1T</td>\n",
       "      <td>5</td>\n",
       "      <td>1350777600</td>\n",
       "    </tr>\n",
       "  </tbody>\n",
       "</table>\n",
       "</div>"
      ],
      "text/plain": [
       "    ProductId          UserId  Score        Time\n",
       "0  B001E4KFG0  A3SGXH7AUHU8GW      5  1303862400\n",
       "1  B00813GRG4  A1D87F6ZCVE5NK      1  1346976000\n",
       "2  B000LQOCH0   ABXLMWJIXXAIN      4  1219017600\n",
       "3  B000UA0QIQ  A395BORC6FGVXV      2  1307923200\n",
       "4  B006K2ZZ7K  A1UQRSCLF8GW1T      5  1350777600"
      ]
     },
     "execution_count": 13,
     "metadata": {},
     "output_type": "execute_result"
    }
   ],
   "source": [
    "data.head()"
   ]
  },
  {
   "cell_type": "code",
   "execution_count": 14,
   "id": "1bfdd1e8",
   "metadata": {},
   "outputs": [
    {
     "data": {
      "text/plain": [
       "(568411, 4)"
      ]
     },
     "execution_count": 14,
     "metadata": {},
     "output_type": "execute_result"
    }
   ],
   "source": [
    "data.shape"
   ]
  },
  {
   "cell_type": "code",
   "execution_count": 15,
   "id": "33ebeceb",
   "metadata": {},
   "outputs": [
    {
     "data": {
      "text/plain": [
       "False"
      ]
     },
     "execution_count": 15,
     "metadata": {},
     "output_type": "execute_result"
    }
   ],
   "source": [
    "data.isnull().values.any()"
   ]
  },
  {
   "cell_type": "code",
   "execution_count": 16,
   "id": "0fde500f",
   "metadata": {},
   "outputs": [
    {
     "data": {
      "image/png": "[encoded data removed]",
      "text/plain": [
       "<Figure size 1440x1080 with 2 Axes>"
      ]
     },
     "metadata": {
      "needs_background": "light"
     },
     "output_type": "display_data"
    }
   ],
   "source": [
    "data.hist(figsize=(20, 15))\n",
    "plt.show()"
   ]
  },
  {
   "cell_type": "code",
   "execution_count": 17,
   "id": "bef1808a",
   "metadata": {},
   "outputs": [
    {
     "data": {
      "text/plain": [
       "<AxesSubplot:ylabel='Score'>"
      ]
     },
     "execution_count": 17,
     "metadata": {},
     "output_type": "execute_result"
    },
    {
     "data": {
      "image/png": "[encoded data removed]",
      "text/plain": [
       "<Figure size 432x288 with 1 Axes>"
      ]
     },
     "metadata": {
      "needs_background": "light"
     },
     "output_type": "display_data"
    }
   ],
   "source": [
    "sns.boxplot(y='Score',data=data)"
   ]
  },
  {
   "cell_type": "code",
   "execution_count": 18,
   "id": "afcc646a",
   "metadata": {},
   "outputs": [
    {
     "data": {
      "text/plain": [
       "<AxesSubplot:ylabel='Time'>"
      ]
     },
     "execution_count": 18,
     "metadata": {},
     "output_type": "execute_result"
    },
    {
     "data": {
      "image/png": "[encoded data removed]",
      "text/plain": [
       "<Figure size 432x288 with 1 Axes>"
      ]
     },
     "metadata": {
      "needs_background": "light"
     },
     "output_type": "display_data"
    }
   ],
   "source": [
    "sns.boxplot(y='Time',data=data)"
   ]
  },
  {
   "cell_type": "code",
   "execution_count": 19,
   "id": "c046614a",
   "metadata": {},
   "outputs": [
    {
     "data": {
      "text/html": [
       "<div>\n",
       "<style scoped>\n",
       "    .dataframe tbody tr th:only-of-type {\n",
       "        vertical-align: middle;\n",
       "    }\n",
       "\n",
       "    .dataframe tbody tr th {\n",
       "        vertical-align: top;\n",
       "    }\n",
       "\n",
       "    .dataframe thead th {\n",
       "        text-align: right;\n",
       "    }\n",
       "</style>\n",
       "<table border=\"1\" class=\"dataframe\">\n",
       "  <thead>\n",
       "    <tr style=\"text-align: right;\">\n",
       "      <th></th>\n",
       "      <th>ProductId</th>\n",
       "      <th>UserId</th>\n",
       "      <th>Score</th>\n",
       "      <th>Time</th>\n",
       "    </tr>\n",
       "  </thead>\n",
       "  <tbody>\n",
       "    <tr>\n",
       "      <th>14</th>\n",
       "      <td>B001GVISJM</td>\n",
       "      <td>A2MUGFV2TDQ47K</td>\n",
       "      <td>5</td>\n",
       "      <td>1268352000</td>\n",
       "    </tr>\n",
       "    <tr>\n",
       "      <th>44</th>\n",
       "      <td>B001EO5QW8</td>\n",
       "      <td>A2G7B7FKP2O2PU</td>\n",
       "      <td>5</td>\n",
       "      <td>1209686400</td>\n",
       "    </tr>\n",
       "    <tr>\n",
       "      <th>46</th>\n",
       "      <td>B001EO5QW8</td>\n",
       "      <td>AQLL2R1PPR46X</td>\n",
       "      <td>5</td>\n",
       "      <td>1192752000</td>\n",
       "    </tr>\n",
       "    <tr>\n",
       "      <th>109</th>\n",
       "      <td>B001REEG6C</td>\n",
       "      <td>AY12DBB0U420B</td>\n",
       "      <td>5</td>\n",
       "      <td>1316390400</td>\n",
       "    </tr>\n",
       "    <tr>\n",
       "      <th>141</th>\n",
       "      <td>B001GVISJW</td>\n",
       "      <td>A2YIO225BTKVPU</td>\n",
       "      <td>4</td>\n",
       "      <td>1301788800</td>\n",
       "    </tr>\n",
       "    <tr>\n",
       "      <th>143</th>\n",
       "      <td>B001GVISJW</td>\n",
       "      <td>A1Z54EM24Y40LL</td>\n",
       "      <td>5</td>\n",
       "      <td>1269129600</td>\n",
       "    </tr>\n",
       "    <tr>\n",
       "      <th>186</th>\n",
       "      <td>B000NY8ODS</td>\n",
       "      <td>A1IU7S4HCK1XK0</td>\n",
       "      <td>5</td>\n",
       "      <td>1333843200</td>\n",
       "    </tr>\n",
       "    <tr>\n",
       "      <th>217</th>\n",
       "      <td>B0040WAG7Q</td>\n",
       "      <td>A19SDJ2TSSL8HI</td>\n",
       "      <td>3</td>\n",
       "      <td>1347667200</td>\n",
       "    </tr>\n",
       "    <tr>\n",
       "      <th>231</th>\n",
       "      <td>B003SO503C</td>\n",
       "      <td>A3OXRFCJI67IMN</td>\n",
       "      <td>5</td>\n",
       "      <td>1333843200</td>\n",
       "    </tr>\n",
       "    <tr>\n",
       "      <th>273</th>\n",
       "      <td>B000LKZK7C</td>\n",
       "      <td>A2582KMXLK2P06</td>\n",
       "      <td>5</td>\n",
       "      <td>1296777600</td>\n",
       "    </tr>\n",
       "    <tr>\n",
       "      <th>369</th>\n",
       "      <td>B002O3VHXU</td>\n",
       "      <td>A3OXHLG6DIBRW8</td>\n",
       "      <td>5</td>\n",
       "      <td>1282176000</td>\n",
       "    </tr>\n",
       "    <tr>\n",
       "      <th>370</th>\n",
       "      <td>B002O3VHXU</td>\n",
       "      <td>A2TJG4N8LNJW23</td>\n",
       "      <td>4</td>\n",
       "      <td>1327104000</td>\n",
       "    </tr>\n",
       "    <tr>\n",
       "      <th>383</th>\n",
       "      <td>B000UXA3L8</td>\n",
       "      <td>A25C2M3QF9G7OQ</td>\n",
       "      <td>5</td>\n",
       "      <td>1335139200</td>\n",
       "    </tr>\n",
       "    <tr>\n",
       "      <th>398</th>\n",
       "      <td>B001ELL6O8</td>\n",
       "      <td>ALSAOZ1V546VT</td>\n",
       "      <td>5</td>\n",
       "      <td>1200182400</td>\n",
       "    </tr>\n",
       "    <tr>\n",
       "      <th>420</th>\n",
       "      <td>B004X8TK8I</td>\n",
       "      <td>AMRMK86X3PKXD</td>\n",
       "      <td>5</td>\n",
       "      <td>1337644800</td>\n",
       "    </tr>\n",
       "    <tr>\n",
       "      <th>431</th>\n",
       "      <td>B000G6RYNE</td>\n",
       "      <td>A2OEUROGZDTXUJ</td>\n",
       "      <td>5</td>\n",
       "      <td>1327881600</td>\n",
       "    </tr>\n",
       "    <tr>\n",
       "      <th>433</th>\n",
       "      <td>B000G6RYNE</td>\n",
       "      <td>A22PUBSSNP54L</td>\n",
       "      <td>5</td>\n",
       "      <td>1326672000</td>\n",
       "    </tr>\n",
       "    <tr>\n",
       "      <th>443</th>\n",
       "      <td>B000G6RYNE</td>\n",
       "      <td>AYB4ELCS5AM8P</td>\n",
       "      <td>5</td>\n",
       "      <td>1300579200</td>\n",
       "    </tr>\n",
       "    <tr>\n",
       "      <th>451</th>\n",
       "      <td>B000G6RYNE</td>\n",
       "      <td>A2MUGFV2TDQ47K</td>\n",
       "      <td>3</td>\n",
       "      <td>1288915200</td>\n",
       "    </tr>\n",
       "    <tr>\n",
       "      <th>462</th>\n",
       "      <td>B000G6RYNE</td>\n",
       "      <td>A3RMGIKUWGPZOK</td>\n",
       "      <td>5</td>\n",
       "      <td>1245024000</td>\n",
       "    </tr>\n",
       "    <tr>\n",
       "      <th>466</th>\n",
       "      <td>B000G6RYNE</td>\n",
       "      <td>A3PJZ8TU8FDQ1K</td>\n",
       "      <td>5</td>\n",
       "      <td>1231718400</td>\n",
       "    </tr>\n",
       "    <tr>\n",
       "      <th>467</th>\n",
       "      <td>B000G6RYNE</td>\n",
       "      <td>A3PJZ8TU8FDQ1K</td>\n",
       "      <td>5</td>\n",
       "      <td>1231718400</td>\n",
       "    </tr>\n",
       "    <tr>\n",
       "      <th>471</th>\n",
       "      <td>B000G6RYNE</td>\n",
       "      <td>A31N6KB160O508</td>\n",
       "      <td>4</td>\n",
       "      <td>1219795200</td>\n",
       "    </tr>\n",
       "    <tr>\n",
       "      <th>485</th>\n",
       "      <td>B000G6RYNE</td>\n",
       "      <td>A31N6KB160O508</td>\n",
       "      <td>4</td>\n",
       "      <td>1214006400</td>\n",
       "    </tr>\n",
       "    <tr>\n",
       "      <th>486</th>\n",
       "      <td>B000G6RYNE</td>\n",
       "      <td>A31N6KB160O508</td>\n",
       "      <td>4</td>\n",
       "      <td>1214006400</td>\n",
       "    </tr>\n",
       "    <tr>\n",
       "      <th>488</th>\n",
       "      <td>B000G6RYNE</td>\n",
       "      <td>A1B05INWIDZ74O</td>\n",
       "      <td>3</td>\n",
       "      <td>1213142400</td>\n",
       "    </tr>\n",
       "    <tr>\n",
       "      <th>489</th>\n",
       "      <td>B000G6RYNE</td>\n",
       "      <td>A1B05INWIDZ74O</td>\n",
       "      <td>5</td>\n",
       "      <td>1212451200</td>\n",
       "    </tr>\n",
       "    <tr>\n",
       "      <th>503</th>\n",
       "      <td>B000G6RYNE</td>\n",
       "      <td>A2OEUROGZDTXUJ</td>\n",
       "      <td>4</td>\n",
       "      <td>1327968000</td>\n",
       "    </tr>\n",
       "    <tr>\n",
       "      <th>516</th>\n",
       "      <td>B000G6RYNE</td>\n",
       "      <td>A38KP1POQ191WT</td>\n",
       "      <td>1</td>\n",
       "      <td>1279065600</td>\n",
       "    </tr>\n",
       "    <tr>\n",
       "      <th>524</th>\n",
       "      <td>B000G6RYNE</td>\n",
       "      <td>ACYR6O588USK</td>\n",
       "      <td>5</td>\n",
       "      <td>1200614400</td>\n",
       "    </tr>\n",
       "  </tbody>\n",
       "</table>\n",
       "</div>"
      ],
      "text/plain": [
       "      ProductId          UserId  Score        Time\n",
       "14   B001GVISJM  A2MUGFV2TDQ47K      5  1268352000\n",
       "44   B001EO5QW8  A2G7B7FKP2O2PU      5  1209686400\n",
       "46   B001EO5QW8   AQLL2R1PPR46X      5  1192752000\n",
       "109  B001REEG6C   AY12DBB0U420B      5  1316390400\n",
       "141  B001GVISJW  A2YIO225BTKVPU      4  1301788800\n",
       "143  B001GVISJW  A1Z54EM24Y40LL      5  1269129600\n",
       "186  B000NY8ODS  A1IU7S4HCK1XK0      5  1333843200\n",
       "217  B0040WAG7Q  A19SDJ2TSSL8HI      3  1347667200\n",
       "231  B003SO503C  A3OXRFCJI67IMN      5  1333843200\n",
       "273  B000LKZK7C  A2582KMXLK2P06      5  1296777600\n",
       "369  B002O3VHXU  A3OXHLG6DIBRW8      5  1282176000\n",
       "370  B002O3VHXU  A2TJG4N8LNJW23      4  1327104000\n",
       "383  B000UXA3L8  A25C2M3QF9G7OQ      5  1335139200\n",
       "398  B001ELL6O8   ALSAOZ1V546VT      5  1200182400\n",
       "420  B004X8TK8I   AMRMK86X3PKXD      5  1337644800\n",
       "431  B000G6RYNE  A2OEUROGZDTXUJ      5  1327881600\n",
       "433  B000G6RYNE   A22PUBSSNP54L      5  1326672000\n",
       "443  B000G6RYNE   AYB4ELCS5AM8P      5  1300579200\n",
       "451  B000G6RYNE  A2MUGFV2TDQ47K      3  1288915200\n",
       "462  B000G6RYNE  A3RMGIKUWGPZOK      5  1245024000\n",
       "466  B000G6RYNE  A3PJZ8TU8FDQ1K      5  1231718400\n",
       "467  B000G6RYNE  A3PJZ8TU8FDQ1K      5  1231718400\n",
       "471  B000G6RYNE  A31N6KB160O508      4  1219795200\n",
       "485  B000G6RYNE  A31N6KB160O508      4  1214006400\n",
       "486  B000G6RYNE  A31N6KB160O508      4  1214006400\n",
       "488  B000G6RYNE  A1B05INWIDZ74O      3  1213142400\n",
       "489  B000G6RYNE  A1B05INWIDZ74O      5  1212451200\n",
       "503  B000G6RYNE  A2OEUROGZDTXUJ      4  1327968000\n",
       "516  B000G6RYNE  A38KP1POQ191WT      1  1279065600\n",
       "524  B000G6RYNE    ACYR6O588USK      5  1200614400"
      ]
     },
     "execution_count": 19,
     "metadata": {},
     "output_type": "execute_result"
    }
   ],
   "source": [
    "counts=data['UserId'].value_counts()\n",
    "df1=data[data['UserId'].isin(counts[counts>=50].index)]\n",
    "df1.head(30)"
   ]
  },
  {
   "cell_type": "code",
   "execution_count": 20,
   "id": "82157029",
   "metadata": {},
   "outputs": [
    {
     "data": {
      "text/plain": [
       "(22941, 4)"
      ]
     },
     "execution_count": 20,
     "metadata": {},
     "output_type": "execute_result"
    }
   ],
   "source": [
    "df1.shape"
   ]
  },
  {
   "cell_type": "code",
   "execution_count": 21,
   "id": "a99999aa",
   "metadata": {},
   "outputs": [
    {
     "data": {
      "text/html": [
       "<div>\n",
       "<style scoped>\n",
       "    .dataframe tbody tr th:only-of-type {\n",
       "        vertical-align: middle;\n",
       "    }\n",
       "\n",
       "    .dataframe tbody tr th {\n",
       "        vertical-align: top;\n",
       "    }\n",
       "\n",
       "    .dataframe thead th {\n",
       "        text-align: right;\n",
       "    }\n",
       "</style>\n",
       "<table border=\"1\" class=\"dataframe\">\n",
       "  <thead>\n",
       "    <tr style=\"text-align: right;\">\n",
       "      <th></th>\n",
       "      <th>Score</th>\n",
       "      <th>product_rating_counts</th>\n",
       "    </tr>\n",
       "    <tr>\n",
       "      <th>ProductId</th>\n",
       "      <th></th>\n",
       "      <th></th>\n",
       "    </tr>\n",
       "  </thead>\n",
       "  <tbody>\n",
       "    <tr>\n",
       "      <th>7310172001</th>\n",
       "      <td>5.0</td>\n",
       "      <td>7</td>\n",
       "    </tr>\n",
       "    <tr>\n",
       "      <th>7310172101</th>\n",
       "      <td>5.0</td>\n",
       "      <td>7</td>\n",
       "    </tr>\n",
       "    <tr>\n",
       "      <th>7800648702</th>\n",
       "      <td>5.0</td>\n",
       "      <td>1</td>\n",
       "    </tr>\n",
       "    <tr>\n",
       "      <th>B00004CI84</th>\n",
       "      <td>4.0</td>\n",
       "      <td>3</td>\n",
       "    </tr>\n",
       "    <tr>\n",
       "      <th>B00004CXX9</th>\n",
       "      <td>4.0</td>\n",
       "      <td>3</td>\n",
       "    </tr>\n",
       "  </tbody>\n",
       "</table>\n",
       "</div>"
      ],
      "text/plain": [
       "            Score  product_rating_counts\n",
       "ProductId                               \n",
       "7310172001    5.0                      7\n",
       "7310172101    5.0                      7\n",
       "7800648702    5.0                      1\n",
       "B00004CI84    4.0                      3\n",
       "B00004CXX9    4.0                      3"
      ]
     },
     "execution_count": 21,
     "metadata": {},
     "output_type": "execute_result"
    }
   ],
   "source": [
    "products_df = pd.DataFrame(df1.groupby('ProductId')['Score'].mean())\n",
    "products_df['product_rating_counts'] = pd.DataFrame(df1.groupby('ProductId')['Score'].count())\n",
    "products_df.head()"
   ]
  },
  {
   "cell_type": "code",
   "execution_count": 22,
   "id": "37b8e8ff",
   "metadata": {},
   "outputs": [
    {
     "data": {
      "text/html": [
       "<div>\n",
       "<style scoped>\n",
       "    .dataframe tbody tr th:only-of-type {\n",
       "        vertical-align: middle;\n",
       "    }\n",
       "\n",
       "    .dataframe tbody tr th {\n",
       "        vertical-align: top;\n",
       "    }\n",
       "\n",
       "    .dataframe thead th {\n",
       "        text-align: right;\n",
       "    }\n",
       "</style>\n",
       "<table border=\"1\" class=\"dataframe\">\n",
       "  <thead>\n",
       "    <tr style=\"text-align: right;\">\n",
       "      <th></th>\n",
       "      <th>Score</th>\n",
       "      <th>product_rating_counts</th>\n",
       "    </tr>\n",
       "    <tr>\n",
       "      <th>ProductId</th>\n",
       "      <th></th>\n",
       "      <th></th>\n",
       "    </tr>\n",
       "  </thead>\n",
       "  <tbody>\n",
       "    <tr>\n",
       "      <th>7310172001</th>\n",
       "      <td>5.0</td>\n",
       "      <td>7</td>\n",
       "    </tr>\n",
       "    <tr>\n",
       "      <th>B0014P72A6</th>\n",
       "      <td>5.0</td>\n",
       "      <td>1</td>\n",
       "    </tr>\n",
       "    <tr>\n",
       "      <th>B0014H18J0</th>\n",
       "      <td>5.0</td>\n",
       "      <td>1</td>\n",
       "    </tr>\n",
       "    <tr>\n",
       "      <th>B003ESRF5I</th>\n",
       "      <td>5.0</td>\n",
       "      <td>1</td>\n",
       "    </tr>\n",
       "    <tr>\n",
       "      <th>B003FA0M1O</th>\n",
       "      <td>5.0</td>\n",
       "      <td>1</td>\n",
       "    </tr>\n",
       "  </tbody>\n",
       "</table>\n",
       "</div>"
      ],
      "text/plain": [
       "            Score  product_rating_counts\n",
       "ProductId                               \n",
       "7310172001    5.0                      7\n",
       "B0014P72A6    5.0                      1\n",
       "B0014H18J0    5.0                      1\n",
       "B003ESRF5I    5.0                      1\n",
       "B003FA0M1O    5.0                      1"
      ]
     },
     "execution_count": 22,
     "metadata": {},
     "output_type": "execute_result"
    }
   ],
   "source": [
    "products_df.sort_values('Score', ascending=False).head()"
   ]
  },
  {
   "cell_type": "code",
   "execution_count": 23,
   "id": "f3f55535",
   "metadata": {},
   "outputs": [
    {
     "data": {
      "text/html": [
       "<div>\n",
       "<style scoped>\n",
       "    .dataframe tbody tr th:only-of-type {\n",
       "        vertical-align: middle;\n",
       "    }\n",
       "\n",
       "    .dataframe tbody tr th {\n",
       "        vertical-align: top;\n",
       "    }\n",
       "\n",
       "    .dataframe thead th {\n",
       "        text-align: right;\n",
       "    }\n",
       "</style>\n",
       "<table border=\"1\" class=\"dataframe\">\n",
       "  <thead>\n",
       "    <tr style=\"text-align: right;\">\n",
       "      <th></th>\n",
       "      <th>Score</th>\n",
       "      <th>product_rating_counts</th>\n",
       "    </tr>\n",
       "    <tr>\n",
       "      <th>ProductId</th>\n",
       "      <th></th>\n",
       "      <th></th>\n",
       "    </tr>\n",
       "  </thead>\n",
       "  <tbody>\n",
       "    <tr>\n",
       "      <th>B002IEZJMA</th>\n",
       "      <td>3.630769</td>\n",
       "      <td>65</td>\n",
       "    </tr>\n",
       "    <tr>\n",
       "      <th>B0041NYV8E</th>\n",
       "      <td>3.016667</td>\n",
       "      <td>60</td>\n",
       "    </tr>\n",
       "    <tr>\n",
       "      <th>B002IEVJRY</th>\n",
       "      <td>3.813559</td>\n",
       "      <td>59</td>\n",
       "    </tr>\n",
       "    <tr>\n",
       "      <th>B002LANN56</th>\n",
       "      <td>3.678571</td>\n",
       "      <td>56</td>\n",
       "    </tr>\n",
       "    <tr>\n",
       "      <th>B005HG9ET0</th>\n",
       "      <td>3.963636</td>\n",
       "      <td>55</td>\n",
       "    </tr>\n",
       "  </tbody>\n",
       "</table>\n",
       "</div>"
      ],
      "text/plain": [
       "               Score  product_rating_counts\n",
       "ProductId                                  \n",
       "B002IEZJMA  3.630769                     65\n",
       "B0041NYV8E  3.016667                     60\n",
       "B002IEVJRY  3.813559                     59\n",
       "B002LANN56  3.678571                     56\n",
       "B005HG9ET0  3.963636                     55"
      ]
     },
     "execution_count": 23,
     "metadata": {},
     "output_type": "execute_result"
    }
   ],
   "source": [
    "products_df.sort_values('product_rating_counts', ascending=False).head()"
   ]
  },
  {
   "cell_type": "code",
   "execution_count": 24,
   "id": "a3ba463f",
   "metadata": {},
   "outputs": [
    {
     "data": {
      "text/html": [
       "<div>\n",
       "<style scoped>\n",
       "    .dataframe tbody tr th:only-of-type {\n",
       "        vertical-align: middle;\n",
       "    }\n",
       "\n",
       "    .dataframe tbody tr th {\n",
       "        vertical-align: top;\n",
       "    }\n",
       "\n",
       "    .dataframe thead th {\n",
       "        text-align: right;\n",
       "    }\n",
       "</style>\n",
       "<table border=\"1\" class=\"dataframe\">\n",
       "  <thead>\n",
       "    <tr style=\"text-align: right;\">\n",
       "      <th></th>\n",
       "      <th>Score</th>\n",
       "      <th>user_rating_counts</th>\n",
       "    </tr>\n",
       "    <tr>\n",
       "      <th>UserId</th>\n",
       "      <th></th>\n",
       "      <th></th>\n",
       "    </tr>\n",
       "  </thead>\n",
       "  <tbody>\n",
       "    <tr>\n",
       "      <th>A100WO06OQR8BQ</th>\n",
       "      <td>3.109091</td>\n",
       "      <td>55</td>\n",
       "    </tr>\n",
       "    <tr>\n",
       "      <th>A106ZCP7RSXMRU</th>\n",
       "      <td>4.716667</td>\n",
       "      <td>60</td>\n",
       "    </tr>\n",
       "    <tr>\n",
       "      <th>A1080SE9X3ECK0</th>\n",
       "      <td>4.750000</td>\n",
       "      <td>72</td>\n",
       "    </tr>\n",
       "    <tr>\n",
       "      <th>A10G136JEISLVR</th>\n",
       "      <td>4.019608</td>\n",
       "      <td>51</td>\n",
       "    </tr>\n",
       "    <tr>\n",
       "      <th>A11ED8O95W2103</th>\n",
       "      <td>4.017544</td>\n",
       "      <td>57</td>\n",
       "    </tr>\n",
       "  </tbody>\n",
       "</table>\n",
       "</div>"
      ],
      "text/plain": [
       "                   Score  user_rating_counts\n",
       "UserId                                      \n",
       "A100WO06OQR8BQ  3.109091                  55\n",
       "A106ZCP7RSXMRU  4.716667                  60\n",
       "A1080SE9X3ECK0  4.750000                  72\n",
       "A10G136JEISLVR  4.019608                  51\n",
       "A11ED8O95W2103  4.017544                  57"
      ]
     },
     "execution_count": 24,
     "metadata": {},
     "output_type": "execute_result"
    }
   ],
   "source": [
    "users_df = pd.DataFrame(df1.groupby('UserId')['Score'].mean())\n",
    "users_df['user_rating_counts'] = pd.DataFrame(df1.groupby('UserId')['Score'].count())\n",
    "users_df.head()"
   ]
  },
  {
   "cell_type": "code",
   "execution_count": 25,
   "id": "64d0fb9e",
   "metadata": {},
   "outputs": [
    {
     "data": {
      "text/html": [
       "<div>\n",
       "<style scoped>\n",
       "    .dataframe tbody tr th:only-of-type {\n",
       "        vertical-align: middle;\n",
       "    }\n",
       "\n",
       "    .dataframe tbody tr th {\n",
       "        vertical-align: top;\n",
       "    }\n",
       "\n",
       "    .dataframe thead th {\n",
       "        text-align: right;\n",
       "    }\n",
       "</style>\n",
       "<table border=\"1\" class=\"dataframe\">\n",
       "  <thead>\n",
       "    <tr style=\"text-align: right;\">\n",
       "      <th></th>\n",
       "      <th>Score</th>\n",
       "      <th>user_rating_counts</th>\n",
       "    </tr>\n",
       "    <tr>\n",
       "      <th>UserId</th>\n",
       "      <th></th>\n",
       "      <th></th>\n",
       "    </tr>\n",
       "  </thead>\n",
       "  <tbody>\n",
       "    <tr>\n",
       "      <th>A20P8VC55KPPCT</th>\n",
       "      <td>5.000000</td>\n",
       "      <td>70</td>\n",
       "    </tr>\n",
       "    <tr>\n",
       "      <th>A29P51TN9KKMU9</th>\n",
       "      <td>5.000000</td>\n",
       "      <td>84</td>\n",
       "    </tr>\n",
       "    <tr>\n",
       "      <th>A36JDIN9RAAIEC</th>\n",
       "      <td>5.000000</td>\n",
       "      <td>51</td>\n",
       "    </tr>\n",
       "    <tr>\n",
       "      <th>A29JUMRL1US6YP</th>\n",
       "      <td>4.988372</td>\n",
       "      <td>172</td>\n",
       "    </tr>\n",
       "    <tr>\n",
       "      <th>A1LZJZIHUPLDV4</th>\n",
       "      <td>4.987013</td>\n",
       "      <td>154</td>\n",
       "    </tr>\n",
       "  </tbody>\n",
       "</table>\n",
       "</div>"
      ],
      "text/plain": [
       "                   Score  user_rating_counts\n",
       "UserId                                      \n",
       "A20P8VC55KPPCT  5.000000                  70\n",
       "A29P51TN9KKMU9  5.000000                  84\n",
       "A36JDIN9RAAIEC  5.000000                  51\n",
       "A29JUMRL1US6YP  4.988372                 172\n",
       "A1LZJZIHUPLDV4  4.987013                 154"
      ]
     },
     "execution_count": 25,
     "metadata": {},
     "output_type": "execute_result"
    }
   ],
   "source": [
    "users_df.sort_values('Score', ascending=False).head()"
   ]
  },
  {
   "cell_type": "code",
   "execution_count": 26,
   "id": "aaec293e",
   "metadata": {},
   "outputs": [
    {
     "data": {
      "text/html": [
       "<div>\n",
       "<style scoped>\n",
       "    .dataframe tbody tr th:only-of-type {\n",
       "        vertical-align: middle;\n",
       "    }\n",
       "\n",
       "    .dataframe tbody tr th {\n",
       "        vertical-align: top;\n",
       "    }\n",
       "\n",
       "    .dataframe thead th {\n",
       "        text-align: right;\n",
       "    }\n",
       "</style>\n",
       "<table border=\"1\" class=\"dataframe\">\n",
       "  <thead>\n",
       "    <tr style=\"text-align: right;\">\n",
       "      <th></th>\n",
       "      <th>Score</th>\n",
       "      <th>user_rating_counts</th>\n",
       "    </tr>\n",
       "    <tr>\n",
       "      <th>UserId</th>\n",
       "      <th></th>\n",
       "      <th></th>\n",
       "    </tr>\n",
       "  </thead>\n",
       "  <tbody>\n",
       "    <tr>\n",
       "      <th>A3OXHLG6DIBRW8</th>\n",
       "      <td>4.535714</td>\n",
       "      <td>448</td>\n",
       "    </tr>\n",
       "    <tr>\n",
       "      <th>A1YUL9PCJR3JTY</th>\n",
       "      <td>4.494062</td>\n",
       "      <td>421</td>\n",
       "    </tr>\n",
       "    <tr>\n",
       "      <th>AY12DBB0U420B</th>\n",
       "      <td>4.647815</td>\n",
       "      <td>389</td>\n",
       "    </tr>\n",
       "    <tr>\n",
       "      <th>A281NPSIMI1C2R</th>\n",
       "      <td>4.841096</td>\n",
       "      <td>365</td>\n",
       "    </tr>\n",
       "    <tr>\n",
       "      <th>A1Z54EM24Y40LL</th>\n",
       "      <td>4.453125</td>\n",
       "      <td>256</td>\n",
       "    </tr>\n",
       "  </tbody>\n",
       "</table>\n",
       "</div>"
      ],
      "text/plain": [
       "                   Score  user_rating_counts\n",
       "UserId                                      \n",
       "A3OXHLG6DIBRW8  4.535714                 448\n",
       "A1YUL9PCJR3JTY  4.494062                 421\n",
       "AY12DBB0U420B   4.647815                 389\n",
       "A281NPSIMI1C2R  4.841096                 365\n",
       "A1Z54EM24Y40LL  4.453125                 256"
      ]
     },
     "execution_count": 26,
     "metadata": {},
     "output_type": "execute_result"
    }
   ],
   "source": [
    "users_df.sort_values('user_rating_counts', ascending=False).head()"
   ]
  },
  {
   "cell_type": "code",
   "execution_count": 27,
   "id": "4ac36e06",
   "metadata": {},
   "outputs": [],
   "source": [
    "from sklearn.neighbors import KNeighborsClassifier\n",
    "neigh = KNeighborsClassifier(n_neighbors=5)"
   ]
  },
  {
   "cell_type": "code",
   "execution_count": 28,
   "id": "cfebffc4",
   "metadata": {},
   "outputs": [
    {
     "data": {
      "text/plain": [
       "(11313, 2)"
      ]
     },
     "execution_count": 28,
     "metadata": {},
     "output_type": "execute_result"
    }
   ],
   "source": [
    "products_df.shape"
   ]
  },
  {
   "cell_type": "code",
   "execution_count": 29,
   "id": "bb2ee2cd",
   "metadata": {},
   "outputs": [
    {
     "data": {
      "text/html": [
       "<div>\n",
       "<style scoped>\n",
       "    .dataframe tbody tr th:only-of-type {\n",
       "        vertical-align: middle;\n",
       "    }\n",
       "\n",
       "    .dataframe tbody tr th {\n",
       "        vertical-align: top;\n",
       "    }\n",
       "\n",
       "    .dataframe thead th {\n",
       "        text-align: right;\n",
       "    }\n",
       "</style>\n",
       "<table border=\"1\" class=\"dataframe\">\n",
       "  <thead>\n",
       "    <tr style=\"text-align: right;\">\n",
       "      <th></th>\n",
       "      <th>Score</th>\n",
       "      <th>product_rating_counts</th>\n",
       "    </tr>\n",
       "  </thead>\n",
       "  <tbody>\n",
       "    <tr>\n",
       "      <th>count</th>\n",
       "      <td>11313.000000</td>\n",
       "      <td>11313.000000</td>\n",
       "    </tr>\n",
       "    <tr>\n",
       "      <th>mean</th>\n",
       "      <td>4.298634</td>\n",
       "      <td>2.027844</td>\n",
       "    </tr>\n",
       "    <tr>\n",
       "      <th>std</th>\n",
       "      <td>1.037519</td>\n",
       "      <td>3.577791</td>\n",
       "    </tr>\n",
       "    <tr>\n",
       "      <th>min</th>\n",
       "      <td>1.000000</td>\n",
       "      <td>1.000000</td>\n",
       "    </tr>\n",
       "    <tr>\n",
       "      <th>25%</th>\n",
       "      <td>4.000000</td>\n",
       "      <td>1.000000</td>\n",
       "    </tr>\n",
       "    <tr>\n",
       "      <th>50%</th>\n",
       "      <td>5.000000</td>\n",
       "      <td>1.000000</td>\n",
       "    </tr>\n",
       "    <tr>\n",
       "      <th>75%</th>\n",
       "      <td>5.000000</td>\n",
       "      <td>2.000000</td>\n",
       "    </tr>\n",
       "    <tr>\n",
       "      <th>max</th>\n",
       "      <td>5.000000</td>\n",
       "      <td>65.000000</td>\n",
       "    </tr>\n",
       "  </tbody>\n",
       "</table>\n",
       "</div>"
      ],
      "text/plain": [
       "              Score  product_rating_counts\n",
       "count  11313.000000           11313.000000\n",
       "mean       4.298634               2.027844\n",
       "std        1.037519               3.577791\n",
       "min        1.000000               1.000000\n",
       "25%        4.000000               1.000000\n",
       "50%        5.000000               1.000000\n",
       "75%        5.000000               2.000000\n",
       "max        5.000000              65.000000"
      ]
     },
     "execution_count": 29,
     "metadata": {},
     "output_type": "execute_result"
    }
   ],
   "source": [
    "products_df.describe()"
   ]
  },
  {
   "cell_type": "code",
   "execution_count": 30,
   "id": "4d3e896f",
   "metadata": {},
   "outputs": [
    {
     "data": {
      "text/html": [
       "<div>\n",
       "<style scoped>\n",
       "    .dataframe tbody tr th:only-of-type {\n",
       "        vertical-align: middle;\n",
       "    }\n",
       "\n",
       "    .dataframe tbody tr th {\n",
       "        vertical-align: top;\n",
       "    }\n",
       "\n",
       "    .dataframe thead th {\n",
       "        text-align: right;\n",
       "    }\n",
       "</style>\n",
       "<table border=\"1\" class=\"dataframe\">\n",
       "  <thead>\n",
       "    <tr style=\"text-align: right;\">\n",
       "      <th></th>\n",
       "      <th>ProductId</th>\n",
       "      <th>Score</th>\n",
       "      <th>product_rating_counts</th>\n",
       "    </tr>\n",
       "  </thead>\n",
       "  <tbody>\n",
       "    <tr>\n",
       "      <th>0</th>\n",
       "      <td>7310172001</td>\n",
       "      <td>5.0</td>\n",
       "      <td>7</td>\n",
       "    </tr>\n",
       "    <tr>\n",
       "      <th>1</th>\n",
       "      <td>7310172101</td>\n",
       "      <td>5.0</td>\n",
       "      <td>7</td>\n",
       "    </tr>\n",
       "    <tr>\n",
       "      <th>2</th>\n",
       "      <td>7800648702</td>\n",
       "      <td>5.0</td>\n",
       "      <td>1</td>\n",
       "    </tr>\n",
       "    <tr>\n",
       "      <th>3</th>\n",
       "      <td>B00004CI84</td>\n",
       "      <td>4.0</td>\n",
       "      <td>3</td>\n",
       "    </tr>\n",
       "    <tr>\n",
       "      <th>4</th>\n",
       "      <td>B00004CXX9</td>\n",
       "      <td>4.0</td>\n",
       "      <td>3</td>\n",
       "    </tr>\n",
       "    <tr>\n",
       "      <th>...</th>\n",
       "      <td>...</td>\n",
       "      <td>...</td>\n",
       "      <td>...</td>\n",
       "    </tr>\n",
       "    <tr>\n",
       "      <th>11308</th>\n",
       "      <td>B009LT26BC</td>\n",
       "      <td>5.0</td>\n",
       "      <td>1</td>\n",
       "    </tr>\n",
       "    <tr>\n",
       "      <th>11309</th>\n",
       "      <td>B009M2LUEW</td>\n",
       "      <td>4.4</td>\n",
       "      <td>5</td>\n",
       "    </tr>\n",
       "    <tr>\n",
       "      <th>11310</th>\n",
       "      <td>B009PCDDO4</td>\n",
       "      <td>5.0</td>\n",
       "      <td>1</td>\n",
       "    </tr>\n",
       "    <tr>\n",
       "      <th>11311</th>\n",
       "      <td>B009QEBGIQ</td>\n",
       "      <td>5.0</td>\n",
       "      <td>1</td>\n",
       "    </tr>\n",
       "    <tr>\n",
       "      <th>11312</th>\n",
       "      <td>B009RB4GO4</td>\n",
       "      <td>3.0</td>\n",
       "      <td>3</td>\n",
       "    </tr>\n",
       "  </tbody>\n",
       "</table>\n",
       "<p>11313 rows × 3 columns</p>\n",
       "</div>"
      ],
      "text/plain": [
       "        ProductId  Score  product_rating_counts\n",
       "0      7310172001    5.0                      7\n",
       "1      7310172101    5.0                      7\n",
       "2      7800648702    5.0                      1\n",
       "3      B00004CI84    4.0                      3\n",
       "4      B00004CXX9    4.0                      3\n",
       "...           ...    ...                    ...\n",
       "11308  B009LT26BC    5.0                      1\n",
       "11309  B009M2LUEW    4.4                      5\n",
       "11310  B009PCDDO4    5.0                      1\n",
       "11311  B009QEBGIQ    5.0                      1\n",
       "11312  B009RB4GO4    3.0                      3\n",
       "\n",
       "[11313 rows x 3 columns]"
      ]
     },
     "execution_count": 30,
     "metadata": {},
     "output_type": "execute_result"
    }
   ],
   "source": [
    "products_df.reset_index(level=0, inplace=True)\n",
    "products_df"
   ]
  },
  {
   "cell_type": "code",
   "execution_count": 31,
   "id": "9467f58b",
   "metadata": {},
   "outputs": [],
   "source": [
    "x = products_df.drop(\"ProductId\",axis=1)\n",
    "y = products_df[\"ProductId\"]"
   ]
  },
  {
   "cell_type": "code",
   "execution_count": 32,
   "id": "52d057df",
   "metadata": {},
   "outputs": [
    {
     "data": {
      "text/plain": [
       "(1, 2)"
      ]
     },
     "execution_count": 32,
     "metadata": {},
     "output_type": "execute_result"
    }
   ],
   "source": [
    "testSet = [[4.0,51]]\n",
    "test = pd.DataFrame(testSet)\n",
    "test.shape"
   ]
  },
  {
   "cell_type": "code",
   "execution_count": 33,
   "id": "64d3a3f1",
   "metadata": {},
   "outputs": [
    {
     "name": "stdout",
     "output_type": "stream",
     "text": [
      "['B001VJ0B0I']\n"
     ]
    },
    {
     "name": "stderr",
     "output_type": "stream",
     "text": [
      "D:\\program\\lib\\site-packages\\sklearn\\base.py:450: UserWarning: X does not have valid feature names, but KNeighborsClassifier was fitted with feature names\n",
      "  warnings.warn(\n"
     ]
    }
   ],
   "source": [
    "neigh.fit()\n",
    "\n",
    "print(neigh.predict(test))"
   ]
  },
  {
   "cell_type": "code",
   "execution_count": 36,
   "id": "350af8c1",
   "metadata": {},
   "outputs": [
    {
     "data": {
      "text/plain": [
       "(1, 2)"
      ]
     },
     "execution_count": 36,
     "metadata": {},
     "output_type": "execute_result"
    }
   ],
   "source": [
    "testSet1 = [[3.0,23]]\n",
    "test1 = pd.DataFrame(testSet1)\n",
    "test1.shape"
   ]
  },
  {
   "cell_type": "code",
   "execution_count": 37,
   "id": "55d4919e",
   "metadata": {},
   "outputs": [
    {
     "name": "stdout",
     "output_type": "stream",
     "text": [
      "['B001LGGH54']\n"
     ]
    },
    {
     "name": "stderr",
     "output_type": "stream",
     "text": [
      "D:\\program\\lib\\site-packages\\sklearn\\base.py:450: UserWarning: X does not have valid feature names, but KNeighborsClassifier was fitted with feature names\n",
      "  warnings.warn(\n"
     ]
    }
   ],
   "source": [
    "print(neigh.predict(test1))"
   ]
  },
  {
   "cell_type": "code",
   "execution_count": null,
   "id": "0bfd646d",
   "metadata": {},
   "outputs": [],
   "source": []
  }
 ],
 "metadata": {
  "kernelspec": {
   "display_name": "Python 3",
   "language": "python",
   "name": "python3"
  },
  "language_info": {
   "codemirror_mode": {
    "name": "ipython",
    "version": 3
   },
   "file_extension": ".py",
   "mimetype": "text/x-python",
   "name": "python",
   "nbconvert_exporter": "python",
   "pygments_lexer": "ipython3",
   "version": "3.8.8"
  }
 },
 "nbformat": 4,
 "nbformat_minor": 5
}
